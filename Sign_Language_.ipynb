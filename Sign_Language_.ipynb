{
  "cells": [
    {
      "cell_type": "markdown",
      "metadata": {
        "id": "view-in-github",
        "colab_type": "text"
      },
      "source": [
        "<a href=\"https://colab.research.google.com/github/shrutijpg/Sign-Language-Detection-Using-YOLOv5/blob/master/Sign_Language_.ipynb\" target=\"_parent\"><img src=\"https://colab.research.google.com/assets/colab-badge.svg\" alt=\"Open In Colab\"/></a>"
      ]
    },
    {
      "cell_type": "code",
      "execution_count": null,
      "metadata": {
        "colab": {
          "base_uri": "https://localhost:8080/"
        },
        "id": "hdo1HUb1jHKX",
        "outputId": "85624e8e-c91a-4729-8791-71901d922893"
      },
      "outputs": [
        {
          "name": "stdout",
          "output_type": "stream",
          "text": [
            "Cloning into 'yolov5'...\n",
            "remote: Enumerating objects: 17485, done.\u001b[K\n",
            "remote: Counting objects: 100% (111/111), done.\u001b[K\n",
            "remote: Compressing objects: 100% (80/80), done.\u001b[K\n",
            "remote: Total 17485 (delta 81), reused 31 (delta 31), pack-reused 17374 (from 3)\u001b[K\n",
            "Receiving objects: 100% (17485/17485), 16.39 MiB | 12.18 MiB/s, done.\n",
            "Resolving deltas: 100% (11986/11986), done.\n",
            "/content/yolov5\n"
          ]
        }
      ],
      "source": [
        "# clone YOLOv5 repository\n",
        "!git clone https://github.com/ultralytics/yolov5.git  # clone repo\n",
        "%cd yolov5"
      ]
    },
    {
      "cell_type": "code",
      "execution_count": null,
      "metadata": {
        "colab": {
          "base_uri": "https://localhost:8080/"
        },
        "id": "3in84mQQjQDP",
        "outputId": "5fbb16e9-93cb-4b7d-83ab-cfa5bc35d3be"
      },
      "outputs": [
        {
          "name": "stdout",
          "output_type": "stream",
          "text": [
            "\u001b[2K   \u001b[90m━━━━━━━━━━━━━━━━━━━━━━━━━━━━━━━━━━━━━━━━\u001b[0m \u001b[32m363.4/363.4 MB\u001b[0m \u001b[31m4.3 MB/s\u001b[0m eta \u001b[36m0:00:00\u001b[0m\n",
            "\u001b[2K   \u001b[90m━━━━━━━━━━━━━━━━━━━━━━━━━━━━━━━━━━━━━━━━\u001b[0m \u001b[32m13.8/13.8 MB\u001b[0m \u001b[31m60.2 MB/s\u001b[0m eta \u001b[36m0:00:00\u001b[0m\n",
            "\u001b[2K   \u001b[90m━━━━━━━━━━━━━━━━━━━━━━━━━━━━━━━━━━━━━━━━\u001b[0m \u001b[32m24.6/24.6 MB\u001b[0m \u001b[31m18.0 MB/s\u001b[0m eta \u001b[36m0:00:00\u001b[0m\n",
            "\u001b[2K   \u001b[90m━━━━━━━━━━━━━━━━━━━━━━━━━━━━━━━━━━━━━━━━\u001b[0m \u001b[32m883.7/883.7 kB\u001b[0m \u001b[31m30.6 MB/s\u001b[0m eta \u001b[36m0:00:00\u001b[0m\n",
            "\u001b[2K   \u001b[90m━━━━━━━━━━━━━━━━━━━━━━━━━━━━━━━━━━━━━━━━\u001b[0m \u001b[32m664.8/664.8 MB\u001b[0m \u001b[31m2.7 MB/s\u001b[0m eta \u001b[36m0:00:00\u001b[0m\n",
            "\u001b[2K   \u001b[90m━━━━━━━━━━━━━━━━━━━━━━━━━━━━━━━━━━━━━━━━\u001b[0m \u001b[32m211.5/211.5 MB\u001b[0m \u001b[31m5.6 MB/s\u001b[0m eta \u001b[36m0:00:00\u001b[0m\n",
            "\u001b[2K   \u001b[90m━━━━━━━━━━━━━━━━━━━━━━━━━━━━━━━━━━━━━━━━\u001b[0m \u001b[32m56.3/56.3 MB\u001b[0m \u001b[31m17.0 MB/s\u001b[0m eta \u001b[36m0:00:00\u001b[0m\n",
            "\u001b[2K   \u001b[90m━━━━━━━━━━━━━━━━━━━━━━━━━━━━━━━━━━━━━━━━\u001b[0m \u001b[32m127.9/127.9 MB\u001b[0m \u001b[31m7.3 MB/s\u001b[0m eta \u001b[36m0:00:00\u001b[0m\n",
            "\u001b[2K   \u001b[90m━━━━━━━━━━━━━━━━━━━━━━━━━━━━━━━━━━━━━━━━\u001b[0m \u001b[32m207.5/207.5 MB\u001b[0m \u001b[31m5.6 MB/s\u001b[0m eta \u001b[36m0:00:00\u001b[0m\n",
            "\u001b[2K   \u001b[90m━━━━━━━━━━━━━━━━━━━━━━━━━━━━━━━━━━━━━━━━\u001b[0m \u001b[32m21.1/21.1 MB\u001b[0m \u001b[31m27.8 MB/s\u001b[0m eta \u001b[36m0:00:00\u001b[0m\n",
            "\u001b[2K   \u001b[90m━━━━━━━━━━━━━━━━━━━━━━━━━━━━━━━━━━━━━━━━\u001b[0m \u001b[32m1.0/1.0 MB\u001b[0m \u001b[31m34.1 MB/s\u001b[0m eta \u001b[36m0:00:00\u001b[0m\n",
            "\u001b[?25hSetup complete. Using torch 2.6.0+cu124 _CudaDeviceProperties(name='Tesla T4', major=7, minor=5, total_memory=15095MB, multi_processor_count=40, uuid=3f44b273-6fa5-168e-42b3-5ec2c295d5ea, L2_cache_size=4MB)\n"
          ]
        }
      ],
      "source": [
        "# install dependencies as necessary\n",
        "!pip install -qr requirements.txt  # install dependencies (ignore errors)\n",
        "import torch\n",
        "\n",
        "from IPython.display import Image, clear_output  # to display images\n",
        "# from utils.google_utils import gdrive_download  # to download models/datasets\n",
        "\n",
        "# clear_output()\n",
        "print('Setup complete. Using torch %s %s' % (torch.__version__, torch.cuda.get_device_properties(0) if torch.cuda.is_available() else 'CPU'))\n",
        "\n"
      ]
    },
    {
      "cell_type": "markdown",
      "metadata": {
        "id": "5Uze1U07kEys"
      },
      "source": [
        "Preparing the custome data"
      ]
    },
    {
      "cell_type": "code",
      "execution_count": null,
      "metadata": {
        "colab": {
          "background_save": true,
          "base_uri": "https://localhost:8080/"
        },
        "id": "faoGvI3SjUfE",
        "outputId": "5ce61918-586d-412d-e9e2-f0a5cac4847a"
      },
      "outputs": [
        {
          "name": "stdout",
          "output_type": "stream",
          "text": [
            "/content\n",
            "  % Total    % Received % Xferd  Average Speed   Time    Time     Time  Current\n",
            "                                 Dload  Upload   Total   Spent    Left  Speed\n",
            "  0     0    0     0    0     0      0      0 --:--:-- --:--:-- --:--:--     0\n",
            "100  9.7M  100  9.7M    0     0  6019k      0  0:00:01  0:00:01 --:--:-- 30.7M\n",
            "Archive:  SignData.zip\n",
            "  inflating: data.yaml               \n",
            "   creating: test/images/\n",
            "  inflating: test/images/Hello.82af5cd8-a6d1-11ec-a2fc-84a93ea18ae6.jpg  \n",
            "  inflating: test/images/Hello.8b2540a6-a6d1-11ec-a828-84a93ea18ae6 - Copy.jpg  \n",
            "  inflating: test/images/Hello.8b2540a6-a6d1-11ec-a828-84a93ea18ae6.jpg  \n",
            "  inflating: test/images/Hello.8c5b98c8-a6d1-11ec-a905-84a93ea18ae6.jpg  \n",
            "  inflating: test/images/Hello.8d922278-a6d1-11ec-9c17-84a93ea18ae6.jpg  \n",
            "  inflating: test/images/IloveYou.01279dee-a6d2-11ec-a775-84a93ea18ae6.jpg  \n",
            "  inflating: test/images/IloveYou.0391a1b8-a6d2-11ec-9246-84a93ea18ae6.jpg  \n",
            "  inflating: test/images/IloveYou.04c7764c-a6d2-11ec-998a-84a93ea18ae6 - Copy.jpg  \n",
            "  inflating: test/images/IloveYou.04c7764c-a6d2-11ec-998a-84a93ea18ae6.jpg  \n",
            "  inflating: test/images/IloveYou.05fc3c80-a6d2-11ec-ba0a-84a93ea18ae6.jpg  \n",
            "  inflating: test/images/No.b81769f8-a6d1-11ec-8d33-84a93ea18ae6.jpg  \n",
            "  inflating: test/images/No.b94ba4ee-a6d1-11ec-b2ba-84a93ea18ae6.jpg  \n",
            "  inflating: test/images/No.ba816d2e-a6d1-11ec-898a-84a93ea18ae6.jpg  \n",
            "  inflating: test/images/No.bbb5b350-a6d1-11ec-988f-84a93ea18ae6.jpg  \n",
            "  inflating: test/images/No.bce99c74-a6d1-11ec-8c1b-84a93ea18ae6.jpg  \n",
            "  inflating: test/images/Please.0c268ce4-a6d2-11ec-9f18-84a93ea18ae6.jpg  \n",
            "  inflating: test/images/Please.0d5c368c-a6d2-11ec-aa39-84a93ea18ae6.jpg  \n",
            "  inflating: test/images/Please.0eb881f4-a6d2-11ec-b189-84a93ea18ae6.jpg  \n",
            "  inflating: test/images/Please.0fee219c-a6d2-11ec-b053-84a93ea18ae6.jpg  \n",
            "  inflating: test/images/Please.1ad33b64-a6d2-11ec-a9f7-84a93ea18ae6.jpg  \n",
            "  inflating: test/images/Thanks.d40538dc-a6d1-11ec-83da-84a93ea18ae6.jpg  \n",
            "  inflating: test/images/Thanks.d53a6f1c-a6d1-11ec-b146-84a93ea18ae6.jpg  \n",
            "  inflating: test/images/Thanks.d6712d6e-a6d1-11ec-a11a-84a93ea18ae6.jpg  \n",
            "  inflating: test/images/Thanks.d7a66c58-a6d1-11ec-bc8a-84a93ea18ae6.jpg  \n",
            "  inflating: test/images/Thanks.d8e8125c-a6d1-11ec-ab8a-84a93ea18ae6.jpg  \n",
            "  inflating: test/images/Yes.9c38304a-a6d1-11ec-9479-84a93ea18ae6.jpg  \n",
            "  inflating: test/images/Yes.9d6bf3fa-a6d1-11ec-a87d-84a93ea18ae6.jpg  \n",
            "  inflating: test/images/Yes.9ea079ba-a6d1-11ec-9707-84a93ea18ae6.jpg  \n",
            "  inflating: test/images/Yes.9fd5c7c0-a6d1-11ec-853d-84a93ea18ae6.jpg  \n",
            "  inflating: test/images/Yes.a4ae0126-a6d1-11ec-98f0-84a93ea18ae6.jpg  \n",
            "   creating: test/labels/\n",
            "  inflating: test/labels/Hello.82af5cd8-a6d1-11ec-a2fc-84a93ea18ae6.txt  \n",
            "  inflating: test/labels/Hello.8b2540a6-a6d1-11ec-a828-84a93ea18ae6 - Copy.txt  \n",
            "  inflating: test/labels/Hello.8b2540a6-a6d1-11ec-a828-84a93ea18ae6.txt  \n",
            "  inflating: test/labels/Hello.8c5b98c8-a6d1-11ec-a905-84a93ea18ae6.txt  \n",
            "  inflating: test/labels/Hello.8d922278-a6d1-11ec-9c17-84a93ea18ae6.txt  \n",
            "  inflating: test/labels/IloveYou.01279dee-a6d2-11ec-a775-84a93ea18ae6.txt  \n",
            "  inflating: test/labels/IloveYou.0391a1b8-a6d2-11ec-9246-84a93ea18ae6.txt  \n",
            "  inflating: test/labels/IloveYou.04c7764c-a6d2-11ec-998a-84a93ea18ae6 - Copy.txt  \n",
            "  inflating: test/labels/IloveYou.04c7764c-a6d2-11ec-998a-84a93ea18ae6.txt  \n",
            "  inflating: test/labels/IloveYou.05fc3c80-a6d2-11ec-ba0a-84a93ea18ae6.txt  \n",
            "  inflating: test/labels/No.b81769f8-a6d1-11ec-8d33-84a93ea18ae6.txt  \n",
            "  inflating: test/labels/No.b94ba4ee-a6d1-11ec-b2ba-84a93ea18ae6.txt  \n",
            "  inflating: test/labels/No.ba816d2e-a6d1-11ec-898a-84a93ea18ae6.txt  \n",
            "  inflating: test/labels/No.bbb5b350-a6d1-11ec-988f-84a93ea18ae6.txt  \n",
            "  inflating: test/labels/No.bce99c74-a6d1-11ec-8c1b-84a93ea18ae6.txt  \n",
            "  inflating: test/labels/Please.0c268ce4-a6d2-11ec-9f18-84a93ea18ae6.txt  \n",
            "  inflating: test/labels/Please.0d5c368c-a6d2-11ec-aa39-84a93ea18ae6.txt  \n",
            "  inflating: test/labels/Please.0eb881f4-a6d2-11ec-b189-84a93ea18ae6.txt  \n",
            "  inflating: test/labels/Please.0fee219c-a6d2-11ec-b053-84a93ea18ae6.txt  \n",
            "  inflating: test/labels/Please.1ad33b64-a6d2-11ec-a9f7-84a93ea18ae6.txt  \n",
            "  inflating: test/labels/Thanks.d40538dc-a6d1-11ec-83da-84a93ea18ae6.txt  \n",
            "  inflating: test/labels/Thanks.d53a6f1c-a6d1-11ec-b146-84a93ea18ae6.txt  \n",
            "  inflating: test/labels/Thanks.d6712d6e-a6d1-11ec-a11a-84a93ea18ae6.txt  \n",
            "  inflating: test/labels/Thanks.d7a66c58-a6d1-11ec-bc8a-84a93ea18ae6.txt  \n",
            "  inflating: test/labels/Thanks.d8e8125c-a6d1-11ec-ab8a-84a93ea18ae6.txt  \n",
            "  inflating: test/labels/Yes.9c38304a-a6d1-11ec-9479-84a93ea18ae6.txt  \n",
            "  inflating: test/labels/Yes.9d6bf3fa-a6d1-11ec-a87d-84a93ea18ae6.txt  \n",
            "  inflating: test/labels/Yes.9ea079ba-a6d1-11ec-9707-84a93ea18ae6.txt  \n",
            "  inflating: test/labels/Yes.9fd5c7c0-a6d1-11ec-853d-84a93ea18ae6.txt  \n",
            "  inflating: test/labels/Yes.a4ae0126-a6d1-11ec-98f0-84a93ea18ae6.txt  \n",
            "   creating: train/images/\n",
            "  inflating: train/images/Hello.803b4934-a6d1-11ec-a175-84a93ea18ae6.jpg  \n",
            "  inflating: train/images/Hello.81794bae-a6d1-11ec-9ec1-84a93ea18ae6.jpg  \n",
            "  inflating: train/images/Hello.82af5cd8-a6d1-11ec-a2fc-84a93ea18ae6.jpg  \n",
            "  inflating: train/images/Hello.83e4b27e-a6d1-11ec-bb78-84a93ea18ae6.jpg  \n",
            "  inflating: train/images/Hello.8518e598-a6d1-11ec-9a9a-84a93ea18ae6 - Copy.jpg  \n",
            "  inflating: train/images/Hello.8518e598-a6d1-11ec-9a9a-84a93ea18ae6.jpg  \n",
            "  inflating: train/images/Hello.864dd09c-a6d1-11ec-bcf2-84a93ea18ae6.jpg  \n",
            "  inflating: train/images/Hello.87840e62-a6d1-11ec-9b5e-84a93ea18ae6.jpg  \n",
            "  inflating: train/images/Hello.88ba94a2-a6d1-11ec-a13e-84a93ea18ae6.jpg  \n",
            "  inflating: train/images/Hello.89f10330-a6d1-11ec-85f2-84a93ea18ae6.jpg  \n",
            "  inflating: train/images/Hello.8b2540a6-a6d1-11ec-a828-84a93ea18ae6 - Copy.jpg  \n",
            "  inflating: train/images/Hello.8b2540a6-a6d1-11ec-a828-84a93ea18ae6.jpg  \n",
            "  inflating: train/images/Hello.8c5b98c8-a6d1-11ec-a905-84a93ea18ae6.jpg  \n",
            "  inflating: train/images/Hello.8d922278-a6d1-11ec-9c17-84a93ea18ae6.jpg  \n",
            "  inflating: train/images/Hello.91349e48-a6d1-11ec-9c40-84a93ea18ae6.jpg  \n",
            "  inflating: train/images/Hello.926aeae2-a6d1-11ec-878b-84a93ea18ae6.jpg  \n",
            "  inflating: train/images/Hello.93a20f68-a6d1-11ec-ac11-84a93ea18ae6.jpg  \n",
            "  inflating: train/images/Hello.94d76664-a6d1-11ec-a96e-84a93ea18ae6.jpg  \n",
            "  inflating: train/images/Hello.960f020a-a6d1-11ec-ad41-84a93ea18ae6.jpg  \n",
            "  inflating: train/images/Hello.97438b78-a6d1-11ec-acc0-84a93ea18ae6.jpg  \n",
            "  inflating: train/images/IloveYou.01279dee-a6d2-11ec-a775-84a93ea18ae6.jpg  \n",
            "  inflating: train/images/IloveYou.0391a1b8-a6d2-11ec-9246-84a93ea18ae6.jpg  \n",
            "  inflating: train/images/IloveYou.04c7764c-a6d2-11ec-998a-84a93ea18ae6 - Copy.jpg  \n",
            "  inflating: train/images/IloveYou.04c7764c-a6d2-11ec-998a-84a93ea18ae6.jpg  \n",
            "  inflating: train/images/IloveYou.05fc3c80-a6d2-11ec-ba0a-84a93ea18ae6.jpg  \n",
            "  inflating: train/images/IloveYou.0732425e-a6d2-11ec-8372-84a93ea18ae6 - Copy.jpg  \n",
            "  inflating: train/images/IloveYou.0732425e-a6d2-11ec-8372-84a93ea18ae6.jpg  \n",
            "  inflating: train/images/IloveYou.f01ba630-a6d1-11ec-97b3-84a93ea18ae6.jpg  \n",
            "  inflating: train/images/IloveYou.f151aa12-a6d1-11ec-8639-84a93ea18ae6.jpg  \n",
            "  inflating: train/images/IloveYou.f287e4a2-a6d1-11ec-9b23-84a93ea18ae6.jpg  \n",
            "  inflating: train/images/IloveYou.f3bdd3ca-a6d1-11ec-97b3-84a93ea18ae6.jpg  \n",
            "  inflating: train/images/IloveYou.f4f422ee-a6d1-11ec-99d6-84a93ea18ae6.jpg  \n",
            "  inflating: train/images/IloveYou.f6292bb4-a6d1-11ec-91a4-84a93ea18ae6.jpg  \n",
            "  inflating: train/images/IloveYou.f75ca6d0-a6d1-11ec-bfad-84a93ea18ae6.jpg  \n",
            "  inflating: train/images/IloveYou.f895cdee-a6d1-11ec-9305-84a93ea18ae6.jpg  \n",
            "  inflating: train/images/IloveYou.f9ca935e-a6d1-11ec-8c39-84a93ea18ae6.jpg  \n",
            "  inflating: train/images/IloveYou.fc3327cc-a6d1-11ec-89b5-84a93ea18ae6.jpg  \n",
            "  inflating: train/images/IloveYou.fd897d98-a6d1-11ec-bcaa-84a93ea18ae6.jpg  \n",
            "  inflating: train/images/IloveYou.febd9c0a-a6d1-11ec-a233-84a93ea18ae6.jpg  \n",
            "  inflating: train/images/IloveYou.fff383c2-a6d1-11ec-8ce1-84a93ea18ae6.jpg  \n",
            "  inflating: train/images/No.b81769f8-a6d1-11ec-8d33-84a93ea18ae6.jpg  \n",
            "  inflating: train/images/No.b94ba4ee-a6d1-11ec-b2ba-84a93ea18ae6.jpg  \n",
            "  inflating: train/images/No.ba816d2e-a6d1-11ec-898a-84a93ea18ae6.jpg  \n",
            "  inflating: train/images/No.bbb5b350-a6d1-11ec-988f-84a93ea18ae6.jpg  \n",
            "  inflating: train/images/No.bce99c74-a6d1-11ec-8c1b-84a93ea18ae6.jpg  \n",
            "  inflating: train/images/No.be1def24-a6d1-11ec-bf88-84a93ea18ae6.jpg  \n",
            "  inflating: train/images/No.bf529c0c-a6d1-11ec-baff-84a93ea18ae6.jpg  \n",
            "  inflating: train/images/No.c088dc76-a6d1-11ec-b9cb-84a93ea18ae6.jpg  \n",
            "  inflating: train/images/No.c1bf9258-a6d1-11ec-95a2-84a93ea18ae6.jpg  \n",
            "  inflating: train/images/No.c2f48c90-a6d1-11ec-8e7f-84a93ea18ae6.jpg  \n",
            "  inflating: train/images/No.c42a01da-a6d1-11ec-9f4f-84a93ea18ae6.jpg  \n",
            "  inflating: train/images/No.c55e849e-a6d1-11ec-8e7e-84a93ea18ae6.jpg  \n",
            "  inflating: train/images/No.c6947c6e-a6d1-11ec-8894-84a93ea18ae6.jpg  \n",
            "  inflating: train/images/No.c7caa8fa-a6d1-11ec-a447-84a93ea18ae6.jpg  \n",
            "  inflating: train/images/No.c8ff4a42-a6d1-11ec-8fe7-84a93ea18ae6.jpg  \n",
            "  inflating: train/images/No.ca3403b8-a6d1-11ec-bec1-84a93ea18ae6.jpg  \n",
            "  inflating: train/images/No.cb69474c-a6d1-11ec-b02e-84a93ea18ae6.jpg  \n",
            "  inflating: train/images/No.cc9f7640-a6d1-11ec-bab0-84a93ea18ae6.jpg  \n",
            "  inflating: train/images/No.cdd3d20a-a6d1-11ec-9387-84a93ea18ae6.jpg  \n",
            "  inflating: train/images/No.cf0823e6-a6d1-11ec-b88a-84a93ea18ae6.jpg  \n",
            "  inflating: train/images/Please.0c268ce4-a6d2-11ec-9f18-84a93ea18ae6.jpg  \n",
            "  inflating: train/images/Please.0d5c368c-a6d2-11ec-aa39-84a93ea18ae6.jpg  \n",
            "  inflating: train/images/Please.0eb881f4-a6d2-11ec-b189-84a93ea18ae6.jpg  \n",
            "  inflating: train/images/Please.0fee219c-a6d2-11ec-b053-84a93ea18ae6.jpg  \n",
            "  inflating: train/images/Please.1124025e-a6d2-11ec-bda7-84a93ea18ae6.jpg  \n",
            "  inflating: train/images/Please.125a16da-a6d2-11ec-934a-84a93ea18ae6.jpg  \n",
            "  inflating: train/images/Please.13901bf0-a6d2-11ec-bb59-84a93ea18ae6.jpg  \n",
            "  inflating: train/images/Please.14c6782c-a6d2-11ec-be1e-84a93ea18ae6.jpg  \n",
            "  inflating: train/images/Please.15fa9c00-a6d2-11ec-9b9e-84a93ea18ae6.jpg  \n",
            "  inflating: train/images/Please.172f70ca-a6d2-11ec-b282-84a93ea18ae6.jpg  \n",
            "  inflating: train/images/Please.1866028c-a6d2-11ec-967c-84a93ea18ae6.jpg  \n",
            "  inflating: train/images/Please.199d917a-a6d2-11ec-a9b6-84a93ea18ae6.jpg  \n",
            "  inflating: train/images/Please.1ad33b64-a6d2-11ec-a9f7-84a93ea18ae6.jpg  \n",
            "  inflating: train/images/Please.1c08151c-a6d2-11ec-b693-84a93ea18ae6.jpg  \n",
            "  inflating: train/images/Please.1d3ced9e-a6d2-11ec-93b0-84a93ea18ae6.jpg  \n",
            "  inflating: train/images/Please.1e71bad2-a6d2-11ec-9ea9-84a93ea18ae6.jpg  \n",
            "  inflating: train/images/Please.1fa61fc0-a6d2-11ec-8bab-84a93ea18ae6.jpg  \n",
            "  inflating: train/images/Please.20dbdb1e-a6d2-11ec-86ce-84a93ea18ae6.jpg  \n",
            "  inflating: train/images/Please.2210c568-a6d2-11ec-a8b7-84a93ea18ae6.jpg  \n",
            "  inflating: train/images/Please.23459af4-a6d2-11ec-9611-84a93ea18ae6.jpg  \n",
            "  inflating: train/images/Thanks.d40538dc-a6d1-11ec-83da-84a93ea18ae6.jpg  \n",
            "  inflating: train/images/Thanks.d53a6f1c-a6d1-11ec-b146-84a93ea18ae6.jpg  \n",
            "  inflating: train/images/Thanks.d6712d6e-a6d1-11ec-a11a-84a93ea18ae6.jpg  \n",
            "  inflating: train/images/Thanks.d7a66c58-a6d1-11ec-bc8a-84a93ea18ae6.jpg  \n",
            "  inflating: train/images/Thanks.d8e8125c-a6d1-11ec-ab8a-84a93ea18ae6.jpg  \n",
            "  inflating: train/images/Thanks.da1e126c-a6d1-11ec-95b2-84a93ea18ae6.jpg  \n",
            "  inflating: train/images/Thanks.db530524-a6d1-11ec-879c-84a93ea18ae6.jpg  \n",
            "  inflating: train/images/Thanks.dc8902a6-a6d1-11ec-abc8-84a93ea18ae6.jpg  \n",
            "  inflating: train/images/Thanks.ddcc3be2-a6d1-11ec-9704-84a93ea18ae6.jpg  \n",
            "  inflating: train/images/Thanks.df0337a8-a6d1-11ec-b55f-84a93ea18ae6.jpg  \n",
            "  inflating: train/images/Thanks.e038a1c8-a6d1-11ec-8deb-84a93ea18ae6.jpg  \n",
            "  inflating: train/images/Thanks.e16c8da8-a6d1-11ec-9812-84a93ea18ae6.jpg  \n",
            "  inflating: train/images/Thanks.e2a18e54-a6d1-11ec-ad45-84a93ea18ae6.jpg  \n",
            "  inflating: train/images/Thanks.e3d6259c-a6d1-11ec-84de-84a93ea18ae6.jpg  \n",
            "  inflating: train/images/Thanks.e50d153a-a6d1-11ec-85e6-84a93ea18ae6.jpg  \n",
            "  inflating: train/images/Thanks.e642cf5c-a6d1-11ec-af05-84a93ea18ae6.jpg  \n",
            "  inflating: train/images/Thanks.e778e9c6-a6d1-11ec-bbd4-84a93ea18ae6.jpg  \n",
            "  inflating: train/images/Thanks.e8af6876-a6d1-11ec-a52b-84a93ea18ae6.jpg  \n",
            "  inflating: train/images/Thanks.e9e54c62-a6d1-11ec-8f75-84a93ea18ae6.jpg  \n",
            "  inflating: train/images/Thanks.eb1a349a-a6d1-11ec-8cda-84a93ea18ae6.jpg  \n",
            "  inflating: train/images/Yes.9c38304a-a6d1-11ec-9479-84a93ea18ae6.jpg  \n",
            "  inflating: train/images/Yes.9d6bf3fa-a6d1-11ec-a87d-84a93ea18ae6.jpg  \n",
            "  inflating: train/images/Yes.9ea079ba-a6d1-11ec-9707-84a93ea18ae6.jpg  \n",
            "  inflating: train/images/Yes.9fd5c7c0-a6d1-11ec-853d-84a93ea18ae6.jpg  \n",
            "  inflating: train/images/Yes.a10d3edc-a6d1-11ec-a82b-84a93ea18ae6.jpg  \n",
            "  inflating: train/images/Yes.a37858ec-a6d1-11ec-bde5-84a93ea18ae6.jpg  \n",
            "  inflating: train/images/Yes.a4ae0126-a6d1-11ec-98f0-84a93ea18ae6.jpg  \n",
            "  inflating: train/images/Yes.a5e2a7ec-a6d1-11ec-818d-84a93ea18ae6.jpg  \n",
            "  inflating: train/images/Yes.a7172876-a6d1-11ec-949d-84a93ea18ae6.jpg  \n",
            "  inflating: train/images/Yes.a84d35fa-a6d1-11ec-9eab-84a93ea18ae6.jpg  \n",
            "  inflating: train/images/Yes.a9824dee-a6d1-11ec-8558-84a93ea18ae6.jpg  \n",
            "  inflating: train/images/Yes.aab81802-a6d1-11ec-b2b7-84a93ea18ae6.jpg  \n",
            "  inflating: train/images/Yes.abee0b40-a6d1-11ec-b920-84a93ea18ae6.jpg  \n",
            "  inflating: train/images/Yes.ad246fee-a6d1-11ec-9275-84a93ea18ae6.jpg  \n",
            "  inflating: train/images/Yes.ae592ce2-a6d1-11ec-85cb-84a93ea18ae6.jpg  \n",
            "  inflating: train/images/Yes.af8e1b36-a6d1-11ec-b27d-84a93ea18ae6.jpg  \n",
            "  inflating: train/images/Yes.b0c45a10-a6d1-11ec-9f4e-84a93ea18ae6.jpg  \n",
            "  inflating: train/images/Yes.b1fa407e-a6d1-11ec-8cec-84a93ea18ae6 - Copy.jpg  \n",
            "  inflating: train/images/Yes.b1fa407e-a6d1-11ec-8cec-84a93ea18ae6.jpg  \n",
            "  inflating: train/images/Yes.b32eaca4-a6d1-11ec-a3b5-84a93ea18ae6.jpg  \n",
            "   creating: train/labels/\n",
            "  inflating: train/labels/Hello.803b4934-a6d1-11ec-a175-84a93ea18ae6.txt  \n",
            "  inflating: train/labels/Hello.81794bae-a6d1-11ec-9ec1-84a93ea18ae6.txt  \n",
            "  inflating: train/labels/Hello.82af5cd8-a6d1-11ec-a2fc-84a93ea18ae6.txt  \n",
            "  inflating: train/labels/Hello.83e4b27e-a6d1-11ec-bb78-84a93ea18ae6.txt  \n",
            "  inflating: train/labels/Hello.8518e598-a6d1-11ec-9a9a-84a93ea18ae6 - Copy.txt  \n",
            "  inflating: train/labels/Hello.8518e598-a6d1-11ec-9a9a-84a93ea18ae6.txt  \n",
            "  inflating: train/labels/Hello.864dd09c-a6d1-11ec-bcf2-84a93ea18ae6.txt  \n",
            "  inflating: train/labels/Hello.87840e62-a6d1-11ec-9b5e-84a93ea18ae6.txt  \n",
            "  inflating: train/labels/Hello.88ba94a2-a6d1-11ec-a13e-84a93ea18ae6.txt  \n",
            "  inflating: train/labels/Hello.89f10330-a6d1-11ec-85f2-84a93ea18ae6.txt  \n",
            "  inflating: train/labels/Hello.8b2540a6-a6d1-11ec-a828-84a93ea18ae6 - Copy.txt  \n",
            "  inflating: train/labels/Hello.8b2540a6-a6d1-11ec-a828-84a93ea18ae6.txt  \n",
            "  inflating: train/labels/Hello.8c5b98c8-a6d1-11ec-a905-84a93ea18ae6.txt  \n",
            "  inflating: train/labels/Hello.8d922278-a6d1-11ec-9c17-84a93ea18ae6.txt  \n",
            "  inflating: train/labels/Hello.91349e48-a6d1-11ec-9c40-84a93ea18ae6.txt  \n",
            "  inflating: train/labels/Hello.926aeae2-a6d1-11ec-878b-84a93ea18ae6.txt  \n",
            "  inflating: train/labels/Hello.93a20f68-a6d1-11ec-ac11-84a93ea18ae6.txt  \n",
            "  inflating: train/labels/Hello.94d76664-a6d1-11ec-a96e-84a93ea18ae6.txt  \n",
            "  inflating: train/labels/Hello.960f020a-a6d1-11ec-ad41-84a93ea18ae6.txt  \n",
            "  inflating: train/labels/Hello.97438b78-a6d1-11ec-acc0-84a93ea18ae6.txt  \n",
            "  inflating: train/labels/IloveYou.01279dee-a6d2-11ec-a775-84a93ea18ae6.txt  \n",
            "  inflating: train/labels/IloveYou.0391a1b8-a6d2-11ec-9246-84a93ea18ae6.txt  \n",
            "  inflating: train/labels/IloveYou.04c7764c-a6d2-11ec-998a-84a93ea18ae6 - Copy.txt  \n",
            "  inflating: train/labels/IloveYou.04c7764c-a6d2-11ec-998a-84a93ea18ae6.txt  \n",
            "  inflating: train/labels/IloveYou.05fc3c80-a6d2-11ec-ba0a-84a93ea18ae6.txt  \n",
            "  inflating: train/labels/IloveYou.0732425e-a6d2-11ec-8372-84a93ea18ae6 - Copy.txt  \n",
            "  inflating: train/labels/IloveYou.0732425e-a6d2-11ec-8372-84a93ea18ae6.txt  \n",
            "  inflating: train/labels/IloveYou.f01ba630-a6d1-11ec-97b3-84a93ea18ae6.txt  \n",
            "  inflating: train/labels/IloveYou.f151aa12-a6d1-11ec-8639-84a93ea18ae6.txt  \n",
            "  inflating: train/labels/IloveYou.f287e4a2-a6d1-11ec-9b23-84a93ea18ae6.txt  \n",
            "  inflating: train/labels/IloveYou.f3bdd3ca-a6d1-11ec-97b3-84a93ea18ae6.txt  \n",
            "  inflating: train/labels/IloveYou.f4f422ee-a6d1-11ec-99d6-84a93ea18ae6.txt  \n",
            "  inflating: train/labels/IloveYou.f6292bb4-a6d1-11ec-91a4-84a93ea18ae6.txt  \n",
            "  inflating: train/labels/IloveYou.f75ca6d0-a6d1-11ec-bfad-84a93ea18ae6.txt  \n",
            "  inflating: train/labels/IloveYou.f895cdee-a6d1-11ec-9305-84a93ea18ae6.txt  \n",
            "  inflating: train/labels/IloveYou.f9ca935e-a6d1-11ec-8c39-84a93ea18ae6.txt  \n",
            "  inflating: train/labels/IloveYou.fc3327cc-a6d1-11ec-89b5-84a93ea18ae6.txt  \n",
            "  inflating: train/labels/IloveYou.fd897d98-a6d1-11ec-bcaa-84a93ea18ae6.txt  \n",
            "  inflating: train/labels/IloveYou.febd9c0a-a6d1-11ec-a233-84a93ea18ae6.txt  \n",
            "  inflating: train/labels/IloveYou.fff383c2-a6d1-11ec-8ce1-84a93ea18ae6.txt  \n",
            "  inflating: train/labels/No.b81769f8-a6d1-11ec-8d33-84a93ea18ae6.txt  \n",
            "  inflating: train/labels/No.b94ba4ee-a6d1-11ec-b2ba-84a93ea18ae6.txt  \n",
            "  inflating: train/labels/No.ba816d2e-a6d1-11ec-898a-84a93ea18ae6.txt  \n",
            "  inflating: train/labels/No.bbb5b350-a6d1-11ec-988f-84a93ea18ae6.txt  \n",
            "  inflating: train/labels/No.bce99c74-a6d1-11ec-8c1b-84a93ea18ae6.txt  \n",
            "  inflating: train/labels/No.be1def24-a6d1-11ec-bf88-84a93ea18ae6.txt  \n",
            "  inflating: train/labels/No.bf529c0c-a6d1-11ec-baff-84a93ea18ae6.txt  \n",
            "  inflating: train/labels/No.c088dc76-a6d1-11ec-b9cb-84a93ea18ae6.txt  \n",
            "  inflating: train/labels/No.c1bf9258-a6d1-11ec-95a2-84a93ea18ae6.txt  \n",
            "  inflating: train/labels/No.c2f48c90-a6d1-11ec-8e7f-84a93ea18ae6.txt  \n",
            "  inflating: train/labels/No.c42a01da-a6d1-11ec-9f4f-84a93ea18ae6.txt  \n",
            "  inflating: train/labels/No.c55e849e-a6d1-11ec-8e7e-84a93ea18ae6.txt  \n",
            "  inflating: train/labels/No.c6947c6e-a6d1-11ec-8894-84a93ea18ae6.txt  \n",
            "  inflating: train/labels/No.c7caa8fa-a6d1-11ec-a447-84a93ea18ae6.txt  \n",
            "  inflating: train/labels/No.c8ff4a42-a6d1-11ec-8fe7-84a93ea18ae6.txt  \n",
            "  inflating: train/labels/No.ca3403b8-a6d1-11ec-bec1-84a93ea18ae6.txt  \n",
            "  inflating: train/labels/No.cb69474c-a6d1-11ec-b02e-84a93ea18ae6.txt  \n",
            "  inflating: train/labels/No.cc9f7640-a6d1-11ec-bab0-84a93ea18ae6.txt  \n",
            "  inflating: train/labels/No.cdd3d20a-a6d1-11ec-9387-84a93ea18ae6.txt  \n",
            "  inflating: train/labels/No.cf0823e6-a6d1-11ec-b88a-84a93ea18ae6.txt  \n",
            "  inflating: train/labels/Please.0c268ce4-a6d2-11ec-9f18-84a93ea18ae6.txt  \n",
            "  inflating: train/labels/Please.0d5c368c-a6d2-11ec-aa39-84a93ea18ae6.txt  \n",
            "  inflating: train/labels/Please.0eb881f4-a6d2-11ec-b189-84a93ea18ae6.txt  \n",
            "  inflating: train/labels/Please.0fee219c-a6d2-11ec-b053-84a93ea18ae6.txt  \n",
            "  inflating: train/labels/Please.1124025e-a6d2-11ec-bda7-84a93ea18ae6.txt  \n",
            "  inflating: train/labels/Please.125a16da-a6d2-11ec-934a-84a93ea18ae6.txt  \n",
            "  inflating: train/labels/Please.13901bf0-a6d2-11ec-bb59-84a93ea18ae6.txt  \n",
            "  inflating: train/labels/Please.14c6782c-a6d2-11ec-be1e-84a93ea18ae6.txt  \n",
            "  inflating: train/labels/Please.15fa9c00-a6d2-11ec-9b9e-84a93ea18ae6.txt  \n",
            "  inflating: train/labels/Please.172f70ca-a6d2-11ec-b282-84a93ea18ae6.txt  \n",
            "  inflating: train/labels/Please.1866028c-a6d2-11ec-967c-84a93ea18ae6.txt  \n",
            "  inflating: train/labels/Please.199d917a-a6d2-11ec-a9b6-84a93ea18ae6.txt  \n",
            "  inflating: train/labels/Please.1ad33b64-a6d2-11ec-a9f7-84a93ea18ae6.txt  \n",
            "  inflating: train/labels/Please.1c08151c-a6d2-11ec-b693-84a93ea18ae6.txt  \n",
            "  inflating: train/labels/Please.1d3ced9e-a6d2-11ec-93b0-84a93ea18ae6.txt  \n",
            "  inflating: train/labels/Please.1e71bad2-a6d2-11ec-9ea9-84a93ea18ae6.txt  \n",
            "  inflating: train/labels/Please.1fa61fc0-a6d2-11ec-8bab-84a93ea18ae6.txt  \n",
            "  inflating: train/labels/Please.20dbdb1e-a6d2-11ec-86ce-84a93ea18ae6.txt  \n",
            "  inflating: train/labels/Please.2210c568-a6d2-11ec-a8b7-84a93ea18ae6.txt  \n",
            "  inflating: train/labels/Please.23459af4-a6d2-11ec-9611-84a93ea18ae6.txt  \n",
            "  inflating: train/labels/Thanks.d40538dc-a6d1-11ec-83da-84a93ea18ae6.txt  \n",
            "  inflating: train/labels/Thanks.d53a6f1c-a6d1-11ec-b146-84a93ea18ae6.txt  \n",
            "  inflating: train/labels/Thanks.d6712d6e-a6d1-11ec-a11a-84a93ea18ae6.txt  \n",
            "  inflating: train/labels/Thanks.d7a66c58-a6d1-11ec-bc8a-84a93ea18ae6.txt  \n",
            "  inflating: train/labels/Thanks.d8e8125c-a6d1-11ec-ab8a-84a93ea18ae6.txt  \n",
            "  inflating: train/labels/Thanks.da1e126c-a6d1-11ec-95b2-84a93ea18ae6.txt  \n",
            "  inflating: train/labels/Thanks.db530524-a6d1-11ec-879c-84a93ea18ae6.txt  \n",
            "  inflating: train/labels/Thanks.dc8902a6-a6d1-11ec-abc8-84a93ea18ae6.txt  \n",
            "  inflating: train/labels/Thanks.ddcc3be2-a6d1-11ec-9704-84a93ea18ae6.txt  \n",
            "  inflating: train/labels/Thanks.df0337a8-a6d1-11ec-b55f-84a93ea18ae6.txt  \n",
            "  inflating: train/labels/Thanks.e038a1c8-a6d1-11ec-8deb-84a93ea18ae6.txt  \n",
            "  inflating: train/labels/Thanks.e16c8da8-a6d1-11ec-9812-84a93ea18ae6.txt  \n",
            "  inflating: train/labels/Thanks.e2a18e54-a6d1-11ec-ad45-84a93ea18ae6.txt  \n",
            "  inflating: train/labels/Thanks.e3d6259c-a6d1-11ec-84de-84a93ea18ae6.txt  \n",
            "  inflating: train/labels/Thanks.e50d153a-a6d1-11ec-85e6-84a93ea18ae6.txt  \n",
            "  inflating: train/labels/Thanks.e642cf5c-a6d1-11ec-af05-84a93ea18ae6.txt  \n",
            "  inflating: train/labels/Thanks.e778e9c6-a6d1-11ec-bbd4-84a93ea18ae6.txt  \n",
            "  inflating: train/labels/Thanks.e8af6876-a6d1-11ec-a52b-84a93ea18ae6.txt  \n",
            "  inflating: train/labels/Thanks.e9e54c62-a6d1-11ec-8f75-84a93ea18ae6.txt  \n",
            "  inflating: train/labels/Thanks.eb1a349a-a6d1-11ec-8cda-84a93ea18ae6.txt  \n",
            "  inflating: train/labels/Yes.9c38304a-a6d1-11ec-9479-84a93ea18ae6.txt  \n",
            "  inflating: train/labels/Yes.9d6bf3fa-a6d1-11ec-a87d-84a93ea18ae6.txt  \n",
            "  inflating: train/labels/Yes.9ea079ba-a6d1-11ec-9707-84a93ea18ae6.txt  \n",
            "  inflating: train/labels/Yes.9fd5c7c0-a6d1-11ec-853d-84a93ea18ae6.txt  \n",
            "  inflating: train/labels/Yes.a10d3edc-a6d1-11ec-a82b-84a93ea18ae6.txt  \n",
            "  inflating: train/labels/Yes.a37858ec-a6d1-11ec-bde5-84a93ea18ae6.txt  \n",
            "  inflating: train/labels/Yes.a4ae0126-a6d1-11ec-98f0-84a93ea18ae6.txt  \n",
            "  inflating: train/labels/Yes.a5e2a7ec-a6d1-11ec-818d-84a93ea18ae6.txt  \n",
            "  inflating: train/labels/Yes.a7172876-a6d1-11ec-949d-84a93ea18ae6.txt  \n",
            "  inflating: train/labels/Yes.a84d35fa-a6d1-11ec-9eab-84a93ea18ae6.txt  \n",
            "  inflating: train/labels/Yes.a9824dee-a6d1-11ec-8558-84a93ea18ae6.txt  \n",
            "  inflating: train/labels/Yes.aab81802-a6d1-11ec-b2b7-84a93ea18ae6.txt  \n",
            "  inflating: train/labels/Yes.abee0b40-a6d1-11ec-b920-84a93ea18ae6.txt  \n",
            "  inflating: train/labels/Yes.ad246fee-a6d1-11ec-9275-84a93ea18ae6.txt  \n",
            "  inflating: train/labels/Yes.ae592ce2-a6d1-11ec-85cb-84a93ea18ae6.txt  \n",
            "  inflating: train/labels/Yes.af8e1b36-a6d1-11ec-b27d-84a93ea18ae6.txt  \n",
            "  inflating: train/labels/Yes.b0c45a10-a6d1-11ec-9f4e-84a93ea18ae6.txt  \n",
            "  inflating: train/labels/Yes.b1fa407e-a6d1-11ec-8cec-84a93ea18ae6 - Copy.txt  \n",
            "  inflating: train/labels/Yes.b1fa407e-a6d1-11ec-8cec-84a93ea18ae6.txt  \n",
            "  inflating: train/labels/Yes.b32eaca4-a6d1-11ec-a3b5-84a93ea18ae6.txt  \n"
          ]
        }
      ],
      "source": [
        "# Export code snippet and paste here\n",
        "%cd /content\n",
        "!curl -L \"https://github.com/entbappy/Branching-tutorial/raw/master/Sign_language_data.zip\" > SignData.zip; unzip SignData.zip; rm SignData.zip\n"
      ]
    },
    {
      "cell_type": "code",
      "execution_count": null,
      "metadata": {
        "colab": {
          "background_save": true,
          "base_uri": "https://localhost:8080/"
        },
        "id": "_B-wscln0el0",
        "outputId": "3be207f0-b0ea-4f03-e93c-7f4e4893d92e"
      },
      "outputs": [
        {
          "name": "stdout",
          "output_type": "stream",
          "text": [
            "train: ../train/images\n",
            "val: ../test/images\n",
            "\n",
            "nc: 6\n",
            "names: ['Hello', 'IloveYou', 'No', 'Please', 'Thanks', 'Yes']\n"
          ]
        }
      ],
      "source": [
        "#This models are trained with coco datasets which has 80n classes\n",
        "# this is the YAML file  we're loading into this notebook with our data\n",
        "%cat data.yaml"
      ]
    },
    {
      "cell_type": "markdown",
      "metadata": {
        "id": "_rUFv0oy1FTW"
      },
      "source": [
        "**Define Model Configuration and Architecture**"
      ]
    },
    {
      "cell_type": "code",
      "execution_count": null,
      "metadata": {
        "colab": {
          "background_save": true
        },
        "id": "5CqYrGDM03Xq"
      },
      "outputs": [],
      "source": [
        "# define number of classes based on YAML\n",
        "import yaml\n",
        "with open(\"data.yaml\", 'r') as stream:\n",
        "    num_classes = str(yaml.safe_load(stream)['nc'])"
      ]
    },
    {
      "cell_type": "code",
      "execution_count": null,
      "metadata": {
        "colab": {
          "background_save": true,
          "base_uri": "https://localhost:8080/",
          "height": 35
        },
        "id": "G4m-xlSX1zvw",
        "outputId": "cc5f2744-95d4-48e8-9b63-0802a6739a3d"
      },
      "outputs": [
        {
          "data": {
            "application/vnd.google.colaboratory.intrinsic+json": {
              "type": "string"
            },
            "text/plain": [
              "'6'"
            ]
          },
          "execution_count": 6,
          "metadata": {},
          "output_type": "execute_result"
        }
      ],
      "source": [
        "num_classes"
      ]
    },
    {
      "cell_type": "code",
      "execution_count": null,
      "metadata": {
        "colab": {
          "background_save": true,
          "base_uri": "https://localhost:8080/"
        },
        "id": "rUb_LDMt11ob",
        "outputId": "0aa81019-414f-44c0-a60c-372cfe3f2984"
      },
      "outputs": [
        {
          "name": "stdout",
          "output_type": "stream",
          "text": [
            "cat: /content/yolov5/models/yolov5s.yaml: No such file or directory\n"
          ]
        }
      ],
      "source": [
        "#this is the model configuration we will use\n",
        "%cat /content/yolov5/models/yolov5s.yaml\n",
        "#We acn als directly copy paste teh code from that file by changing the classes to 6 instead of 80"
      ]
    },
    {
      "cell_type": "code",
      "execution_count": null,
      "metadata": {
        "colab": {
          "background_save": true
        },
        "id": "ErbIg5Z92Elb"
      },
      "outputs": [],
      "source": [
        "#customize iPython writefile so we can write variables\n",
        "from IPython.core.magic import register_line_cell_magic\n",
        "\n",
        "@register_line_cell_magic\n",
        "def writetemplate(line, cell):\n",
        "    with open(line, 'w') as f:\n",
        "        f.write(cell.format(**globals()))"
      ]
    },
    {
      "cell_type": "code",
      "execution_count": null,
      "metadata": {
        "colab": {
          "background_save": true
        },
        "id": "UvVGil8g2Ilo",
        "outputId": "557fcde2-6034-4302-8f02-e7a0a4063a93"
      },
      "outputs": [
        {
          "ename": "FileNotFoundError",
          "evalue": "[Errno 2] No such file or directory: '/content/yolov5/models/custom_yolov5s.yaml'",
          "output_type": "error",
          "traceback": [
            "\u001b[0;31m---------------------------------------------------------------------------\u001b[0m",
            "\u001b[0;31mFileNotFoundError\u001b[0m                         Traceback (most recent call last)",
            "\u001b[0;32m<ipython-input-9-97a7d6b2ae5c>\u001b[0m in \u001b[0;36m<cell line: 0>\u001b[0;34m()\u001b[0m\n\u001b[0;32m----> 1\u001b[0;31m \u001b[0mget_ipython\u001b[0m\u001b[0;34m(\u001b[0m\u001b[0;34m)\u001b[0m\u001b[0;34m.\u001b[0m\u001b[0mrun_cell_magic\u001b[0m\u001b[0;34m(\u001b[0m\u001b[0;34m'writetemplate'\u001b[0m\u001b[0;34m,\u001b[0m \u001b[0;34m'/content/yolov5/models/custom_yolov5s.yaml'\u001b[0m\u001b[0;34m,\u001b[0m \u001b[0;34m\"\\n# parameters\\nnc: {num_classes}  # number of classes\\ndepth_multiple: 0.33  # model depth multiple\\nwidth_multiple: 0.50  # layer channel multiple\\n\\n# anchors\\nanchors:\\n  - [10,13, 16,30, 33,23]  # P3/8\\n  - [30,61, 62,45, 59,119]  # P4/16\\n  - [116,90, 156,198, 373,326]  # P5/32\\n\\n# YOLOv5 backbone\\nbackbone:\\n  # [from, number, module, args]\\n  [[-1, 1, Focus, [64, 3]],  # 0-P1/2\\n   [-1, 1, Conv, [128, 3, 2]],  # 1-P2/4\\n   [-1, 3, BottleneckCSP, [128]],\\n   [-1, 1, Conv, [256, 3, 2]],  # 3-P3/8\\n   [-1, 9, BottleneckCSP, [256]],\\n   [-1, 1, Conv, [512, 3, 2]],  # 5-P4/16\\n   [-1, 9, BottleneckCSP, [512]],\\n   [-1, 1, Conv, [1024, 3, 2]],  # 7-P5/32\\n   [-1, 1, SPP, [1024, [5, 9, 13]]],\\n   [-1, 3, BottleneckCSP, [1024, False]],  # 9\\n  ]\\n\\n# YOLOv5 head\\nhead:\\n  [[-1, 1, Conv, [512, 1, 1]],\\n   [-1, 1, nn.Upsample, [None, 2, 'nearest']],\\n   [[-1, 6], 1, Concat, [1]],  # cat backbone P4\\n   [-1, 3, BottleneckCSP, [512, False]],  # 13\\n\\n   [-1, 1, Conv, [256, 1, 1]],\\n   [-1, 1, nn.Upsample, [None, 2, 'nearest']],\\n   [[-1, 4], 1, Concat, [1]],  # cat backbone P3\\n   [-1, 3, BottleneckCSP, [256, False]],  # 17 (P3/8-small)\\n\\n   [-1, 1, Conv, [256, 3, 2]],\\n   [[-1, 14], 1, Concat, [1]],  # cat head P4\\n   [-1, 3, BottleneckCSP, [512, False]],  # 20 (P4/16-medium)\\n\\n   [-1, 1, Conv, [512, 3, 2]],\\n   [[-1, 10], 1, Concat, [1]],  # cat head P5\\n   [-1, 3, BottleneckCSP, [1024, False]],  # 23 (P5/32-large)\\n\\n   [[17, 20, 23], 1, Detect, [nc, anchors]],  # Detect(P3, P4, P5)\\n  ]\\n\"\u001b[0m\u001b[0;34m)\u001b[0m\u001b[0;34m\u001b[0m\u001b[0;34m\u001b[0m\u001b[0m\n\u001b[0m",
            "\u001b[0;32m/usr/local/lib/python3.11/dist-packages/google/colab/_shell.py\u001b[0m in \u001b[0;36mrun_cell_magic\u001b[0;34m(self, magic_name, line, cell)\u001b[0m\n\u001b[1;32m    356\u001b[0m     \u001b[0;32mif\u001b[0m \u001b[0mline\u001b[0m \u001b[0;32mand\u001b[0m \u001b[0;32mnot\u001b[0m \u001b[0mcell\u001b[0m\u001b[0;34m:\u001b[0m\u001b[0;34m\u001b[0m\u001b[0;34m\u001b[0m\u001b[0m\n\u001b[1;32m    357\u001b[0m       \u001b[0mcell\u001b[0m \u001b[0;34m=\u001b[0m \u001b[0;34m' '\u001b[0m\u001b[0;34m\u001b[0m\u001b[0;34m\u001b[0m\u001b[0m\n\u001b[0;32m--> 358\u001b[0;31m     \u001b[0;32mreturn\u001b[0m \u001b[0msuper\u001b[0m\u001b[0;34m(\u001b[0m\u001b[0;34m)\u001b[0m\u001b[0;34m.\u001b[0m\u001b[0mrun_cell_magic\u001b[0m\u001b[0;34m(\u001b[0m\u001b[0mmagic_name\u001b[0m\u001b[0;34m,\u001b[0m \u001b[0mline\u001b[0m\u001b[0;34m,\u001b[0m \u001b[0mcell\u001b[0m\u001b[0;34m)\u001b[0m\u001b[0;34m\u001b[0m\u001b[0;34m\u001b[0m\u001b[0m\n\u001b[0m\u001b[1;32m    359\u001b[0m \u001b[0;34m\u001b[0m\u001b[0m\n\u001b[1;32m    360\u001b[0m \u001b[0;34m\u001b[0m\u001b[0m\n",
            "\u001b[0;32m/usr/local/lib/python3.11/dist-packages/IPython/core/interactiveshell.py\u001b[0m in \u001b[0;36mrun_cell_magic\u001b[0;34m(self, magic_name, line, cell)\u001b[0m\n\u001b[1;32m   2471\u001b[0m             \u001b[0;32mwith\u001b[0m \u001b[0mself\u001b[0m\u001b[0;34m.\u001b[0m\u001b[0mbuiltin_trap\u001b[0m\u001b[0;34m:\u001b[0m\u001b[0;34m\u001b[0m\u001b[0;34m\u001b[0m\u001b[0m\n\u001b[1;32m   2472\u001b[0m                 \u001b[0margs\u001b[0m \u001b[0;34m=\u001b[0m \u001b[0;34m(\u001b[0m\u001b[0mmagic_arg_s\u001b[0m\u001b[0;34m,\u001b[0m \u001b[0mcell\u001b[0m\u001b[0;34m)\u001b[0m\u001b[0;34m\u001b[0m\u001b[0;34m\u001b[0m\u001b[0m\n\u001b[0;32m-> 2473\u001b[0;31m                 \u001b[0mresult\u001b[0m \u001b[0;34m=\u001b[0m \u001b[0mfn\u001b[0m\u001b[0;34m(\u001b[0m\u001b[0;34m*\u001b[0m\u001b[0margs\u001b[0m\u001b[0;34m,\u001b[0m \u001b[0;34m**\u001b[0m\u001b[0mkwargs\u001b[0m\u001b[0;34m)\u001b[0m\u001b[0;34m\u001b[0m\u001b[0;34m\u001b[0m\u001b[0m\n\u001b[0m\u001b[1;32m   2474\u001b[0m             \u001b[0;32mreturn\u001b[0m \u001b[0mresult\u001b[0m\u001b[0;34m\u001b[0m\u001b[0;34m\u001b[0m\u001b[0m\n\u001b[1;32m   2475\u001b[0m \u001b[0;34m\u001b[0m\u001b[0m\n",
            "\u001b[0;32m<ipython-input-8-fafe4f3ea491>\u001b[0m in \u001b[0;36mwritetemplate\u001b[0;34m(line, cell)\u001b[0m\n\u001b[1;32m      4\u001b[0m \u001b[0;34m@\u001b[0m\u001b[0mregister_line_cell_magic\u001b[0m\u001b[0;34m\u001b[0m\u001b[0;34m\u001b[0m\u001b[0m\n\u001b[1;32m      5\u001b[0m \u001b[0;32mdef\u001b[0m \u001b[0mwritetemplate\u001b[0m\u001b[0;34m(\u001b[0m\u001b[0mline\u001b[0m\u001b[0;34m,\u001b[0m \u001b[0mcell\u001b[0m\u001b[0;34m)\u001b[0m\u001b[0;34m:\u001b[0m\u001b[0;34m\u001b[0m\u001b[0;34m\u001b[0m\u001b[0m\n\u001b[0;32m----> 6\u001b[0;31m     \u001b[0;32mwith\u001b[0m \u001b[0mopen\u001b[0m\u001b[0;34m(\u001b[0m\u001b[0mline\u001b[0m\u001b[0;34m,\u001b[0m \u001b[0;34m'w'\u001b[0m\u001b[0;34m)\u001b[0m \u001b[0;32mas\u001b[0m \u001b[0mf\u001b[0m\u001b[0;34m:\u001b[0m\u001b[0;34m\u001b[0m\u001b[0;34m\u001b[0m\u001b[0m\n\u001b[0m\u001b[1;32m      7\u001b[0m         \u001b[0mf\u001b[0m\u001b[0;34m.\u001b[0m\u001b[0mwrite\u001b[0m\u001b[0;34m(\u001b[0m\u001b[0mcell\u001b[0m\u001b[0;34m.\u001b[0m\u001b[0mformat\u001b[0m\u001b[0;34m(\u001b[0m\u001b[0;34m**\u001b[0m\u001b[0mglobals\u001b[0m\u001b[0;34m(\u001b[0m\u001b[0;34m)\u001b[0m\u001b[0;34m)\u001b[0m\u001b[0;34m)\u001b[0m\u001b[0;34m\u001b[0m\u001b[0;34m\u001b[0m\u001b[0m\n",
            "\u001b[0;31mFileNotFoundError\u001b[0m: [Errno 2] No such file or directory: '/content/yolov5/models/custom_yolov5s.yaml'"
          ]
        }
      ],
      "source": [
        "%%writetemplate /content/yolov5/models/custom_yolov5s.yaml\n",
        "\n",
        "# parameters\n",
        "nc: {num_classes}  # number of classes\n",
        "depth_multiple: 0.33  # model depth multiple\n",
        "width_multiple: 0.50  # layer channel multiple\n",
        "\n",
        "# anchors\n",
        "anchors:\n",
        "  - [10,13, 16,30, 33,23]  # P3/8\n",
        "  - [30,61, 62,45, 59,119]  # P4/16\n",
        "  - [116,90, 156,198, 373,326]  # P5/32\n",
        "\n",
        "# YOLOv5 backbone\n",
        "backbone:\n",
        "  # [from, number, module, args]\n",
        "  [[-1, 1, Focus, [64, 3]],  # 0-P1/2\n",
        "   [-1, 1, Conv, [128, 3, 2]],  # 1-P2/4\n",
        "   [-1, 3, BottleneckCSP, [128]],\n",
        "   [-1, 1, Conv, [256, 3, 2]],  # 3-P3/8\n",
        "   [-1, 9, BottleneckCSP, [256]],\n",
        "   [-1, 1, Conv, [512, 3, 2]],  # 5-P4/16\n",
        "   [-1, 9, BottleneckCSP, [512]],\n",
        "   [-1, 1, Conv, [1024, 3, 2]],  # 7-P5/32\n",
        "   [-1, 1, SPP, [1024, [5, 9, 13]]],\n",
        "   [-1, 3, BottleneckCSP, [1024, False]],  # 9\n",
        "  ]\n",
        "\n",
        "# YOLOv5 head\n",
        "head:\n",
        "  [[-1, 1, Conv, [512, 1, 1]],\n",
        "   [-1, 1, nn.Upsample, [None, 2, 'nearest']],\n",
        "   [[-1, 6], 1, Concat, [1]],  # cat backbone P4\n",
        "   [-1, 3, BottleneckCSP, [512, False]],  # 13\n",
        "\n",
        "   [-1, 1, Conv, [256, 1, 1]],\n",
        "   [-1, 1, nn.Upsample, [None, 2, 'nearest']],\n",
        "   [[-1, 4], 1, Concat, [1]],  # cat backbone P3\n",
        "   [-1, 3, BottleneckCSP, [256, False]],  # 17 (P3/8-small)\n",
        "\n",
        "   [-1, 1, Conv, [256, 3, 2]],\n",
        "   [[-1, 14], 1, Concat, [1]],  # cat head P4\n",
        "   [-1, 3, BottleneckCSP, [512, False]],  # 20 (P4/16-medium)\n",
        "\n",
        "   [-1, 1, Conv, [512, 3, 2]],\n",
        "   [[-1, 10], 1, Concat, [1]],  # cat head P5\n",
        "   [-1, 3, BottleneckCSP, [1024, False]],  # 23 (P5/32-large)\n",
        "\n",
        "   [[17, 20, 23], 1, Detect, [nc, anchors]],  # Detect(P3, P4, P5)\n",
        "  ]"
      ]
    },
    {
      "cell_type": "markdown",
      "metadata": {
        "id": "63-whSod3iww"
      },
      "source": [
        "# **Train Custom YOLOv5 Detector**"
      ]
    },
    {
      "cell_type": "code",
      "execution_count": null,
      "metadata": {
        "colab": {
          "background_save": true
        },
        "id": "7VUNic2u2VeP"
      },
      "outputs": [],
      "source": [
        "# train yolov5s on custom data for 100 epochs\n",
        "# time its performance\n",
        "%%time\n",
        "%cd /content/yolov5/\n",
        "!python train.py --img 416 --batch 16 --epochs 100 --data '../data.yaml' --cfg ./models/custom_yolov5s.yaml --weights 'yolov5s.pt' --name yolov5s_results  --cache\n"
      ]
    },
    {
      "cell_type": "markdown",
      "metadata": {
        "id": "enWIzlre5Tn-"
      },
      "source": [
        "# **Evaluate Custom YOLOv5 Detector Performance**"
      ]
    },
    {
      "cell_type": "code",
      "execution_count": null,
      "metadata": {
        "colab": {
          "background_save": true
        },
        "id": "e_tbW_du3rvk"
      },
      "outputs": [],
      "source": [
        "# Start tensorboard\n",
        "# Launch after you have started training\n",
        "# logs save in the folder \"runs\"\n",
        "%load_ext tensorboard\n",
        "%tensorboard --logdir runs"
      ]
    },
    {
      "cell_type": "code",
      "execution_count": null,
      "metadata": {
        "colab": {
          "background_save": true
        },
        "id": "NuvFlaB05cC1"
      },
      "outputs": [],
      "source": [
        "!nvidia-smi"
      ]
    },
    {
      "cell_type": "code",
      "execution_count": null,
      "metadata": {
        "colab": {
          "background_save": true
        },
        "id": "OItL0aLr5j3h"
      },
      "outputs": [],
      "source": [
        "# we can also output some older school graphs if the tensor board isn't working for whatever reason...\n",
        "from utils.plots import plot_results  # plot results.txt as results.png\n",
        "Image(filename='/content/yolov5/runs/train/yolov5s_results/results.png', width=1000)  # view results.png\n",
        "\n"
      ]
    },
    {
      "cell_type": "markdown",
      "metadata": {
        "id": "DMi9uMkO541_"
      },
      "source": [
        "Visualize Our Training Data with Labels"
      ]
    },
    {
      "cell_type": "code",
      "execution_count": null,
      "metadata": {
        "colab": {
          "background_save": true
        },
        "id": "q9Mc-EXH5oqv"
      },
      "outputs": [],
      "source": [
        "# first, display our ground truth data\n",
        "print(\"GROUND TRUTH TRAINING DATA:\")\n",
        "Image(filename='/content/yolov5/runs/train/yolov5s_results/val_batch0_labels.jpg', width=900)"
      ]
    },
    {
      "cell_type": "code",
      "execution_count": null,
      "metadata": {
        "colab": {
          "background_save": true
        },
        "id": "uuRl2nJW5715"
      },
      "outputs": [],
      "source": [
        "# print out an augmented training example\n",
        "print(\"GROUND TRUTH AUGMENTED TRAINING DATA:\")\n",
        "Image(filename='/content/yolov5/runs/train/yolov5s_results/train_batch0.jpg', width=900)"
      ]
    },
    {
      "cell_type": "markdown",
      "metadata": {
        "id": "KejRBwgf6GUI"
      },
      "source": [
        "Run Inference With Trained Weights"
      ]
    },
    {
      "cell_type": "code",
      "execution_count": null,
      "metadata": {
        "colab": {
          "background_save": true
        },
        "id": "wAbIf7Fm6DJm"
      },
      "outputs": [],
      "source": [
        "# trained weights are saved by default in our weights folder\n",
        "%ls runs/"
      ]
    },
    {
      "cell_type": "code",
      "execution_count": null,
      "metadata": {
        "colab": {
          "background_save": true
        },
        "id": "hTO2Y_Lh6NAn"
      },
      "outputs": [],
      "source": [
        "%ls runs/train/yolov5s_results/weights"
      ]
    },
    {
      "cell_type": "code",
      "execution_count": null,
      "metadata": {
        "colab": {
          "background_save": true
        },
        "id": "RAF3qu5T6RE6"
      },
      "outputs": [],
      "source": [
        "# when we ran this, we saw .007 second inference time. That is 140 FPS on a TESLA P100!\n",
        "# use the best weights!\n",
        "%cd /content/yolov5/\n",
        "!python detect.py --weights runs/train/yolov5s_results/weights/best.pt --img 416 --conf 0.5 --source ../test/images\n"
      ]
    },
    {
      "cell_type": "code",
      "execution_count": null,
      "metadata": {
        "colab": {
          "background_save": true
        },
        "id": "emWUjEiL6Tov"
      },
      "outputs": [],
      "source": [
        "#display inference on ALL test images\n",
        "#this looks much better with longer training above\n",
        "\n",
        "import glob\n",
        "from IPython.display import Image, display\n",
        "\n",
        "for imageName in glob.glob('/content/yolov5/runs/detect/exp*.jpg'): #assuming JPG\n",
        "    display(Image(filename=imageName))\n",
        "    print(\"\\n\")\n"
      ]
    },
    {
      "cell_type": "markdown",
      "metadata": {
        "id": "u5J8Qh-56ot6"
      },
      "source": [
        "# **Export Trained Weights for Future Inference**"
      ]
    },
    {
      "cell_type": "code",
      "execution_count": null,
      "metadata": {
        "colab": {
          "background_save": true
        },
        "id": "siAGmyoM6jwG"
      },
      "outputs": [],
      "source": []
    },
    {
      "cell_type": "code",
      "execution_count": null,
      "metadata": {
        "colab": {
          "background_save": true
        },
        "id": "WnVWKnJV630s"
      },
      "outputs": [],
      "source": []
    }
  ],
  "metadata": {
    "accelerator": "GPU",
    "colab": {
      "gpuType": "T4",
      "provenance": [],
      "authorship_tag": "ABX9TyO1pDjQm7MFhczNldJUAZoZ",
      "include_colab_link": true
    },
    "kernelspec": {
      "display_name": "Python 3",
      "name": "python3"
    },
    "language_info": {
      "name": "python"
    }
  },
  "nbformat": 4,
  "nbformat_minor": 0
}